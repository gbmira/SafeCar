{
  "cells": [
    {
      "cell_type": "code",
      "source": [
        "#SafeCar - TDSVJ\n",
        "#RM 95694 - Gabriel Mira Soares Santos\n",
        "#RM 93423 - Jhonatas Oliveira"
      ],
      "metadata": {
        "id": "X1gEbtQ-cG_Y"
      },
      "execution_count": 56,
      "outputs": []
    },
    {
      "cell_type": "code",
      "execution_count": 57,
      "metadata": {
        "id": "4Ut4MAyiIPrV"
      },
      "outputs": [],
      "source": [
        "#IMPORTANDO BIBLIOTECAS\n",
        "import pandas as pd\n",
        "import matplotlib.pyplot as plt\n",
        "import numpy as np\n",
        "import matplotlib\n",
        "from sklearn.linear_model import ElasticNet\n",
        "from matplotlib import colors\n",
        "from sklearn.linear_model import Ridge\n",
        "import seaborn as sns\n",
        "from sklearn.model_selection import train_test_split\n",
        "from sklearn.linear_model import LinearRegression\n",
        "from sklearn import metrics\n",
        "from sklearn.neighbors import KNeighborsClassifier\n",
        "from sklearn.tree import DecisionTreeClassifier\n",
        "from random import sample\n",
        "from sklearn import linear_model\n",
        "from sklearn.neighbors import KNeighborsClassifier\n",
        "from sklearn.preprocessing import StandardScaler, MinMaxScaler\n",
        "from sklearn import preprocessing\n",
        "from sklearn.metrics import mean_squared_error, mean_absolute_error, r2_score\n",
        "from sklearn import datasets\n",
        "from sklearn.cluster import KMeans, DBSCAN"
      ]
    },
    {
      "cell_type": "code",
      "execution_count": 58,
      "metadata": {
        "id": "MRociCdRI1_H",
        "colab": {
          "base_uri": "https://localhost:8080/",
          "height": 206
        },
        "outputId": "ea758631-f1ef-47d7-b873-4dfa1f16e79a"
      },
      "outputs": [
        {
          "output_type": "execute_result",
          "data": {
            "text/plain": [
              "   no_speed_bump  acc_x_dashboard  acc_y_dashboard  acc_z_dashboard  \\\n",
              "0            NaN        -0.029431        -0.019621         9.781015   \n",
              "1            1.0        -0.039008         0.009110         9.819322   \n",
              "2            1.0         0.010073         0.005518         9.777423   \n",
              "3            1.0         0.020847         0.028263         9.785803   \n",
              "4            1.0        -0.003095        -0.017227         9.800168   \n",
              "\n",
              "   gyro_x_dashboard  gyro_y_dashboard  gyro_z_dashboard  temp_dashboard  \\\n",
              "0         -0.122070         -0.006327         -0.112208       32.166023   \n",
              "1         -0.030518          0.115743         -0.051173       32.453560   \n",
              "2         -0.122070          0.100485         -0.020655       32.405637   \n",
              "3          0.061035          0.207296         -0.112208       32.453560   \n",
              "4         -0.091553          0.146261         -0.112208       32.309791   \n",
              "\n",
              "      speed   road  \n",
              "0  0.010822  paved  \n",
              "1  0.010822  paved  \n",
              "2  0.010822  paved  \n",
              "3  0.010822  paved  \n",
              "4  0.010822  paved  "
            ],
            "text/html": [
              "\n",
              "  <div id=\"df-87b5e713-41ef-42a8-b7b9-1007d3181fee\">\n",
              "    <div class=\"colab-df-container\">\n",
              "      <div>\n",
              "<style scoped>\n",
              "    .dataframe tbody tr th:only-of-type {\n",
              "        vertical-align: middle;\n",
              "    }\n",
              "\n",
              "    .dataframe tbody tr th {\n",
              "        vertical-align: top;\n",
              "    }\n",
              "\n",
              "    .dataframe thead th {\n",
              "        text-align: right;\n",
              "    }\n",
              "</style>\n",
              "<table border=\"1\" class=\"dataframe\">\n",
              "  <thead>\n",
              "    <tr style=\"text-align: right;\">\n",
              "      <th></th>\n",
              "      <th>no_speed_bump</th>\n",
              "      <th>acc_x_dashboard</th>\n",
              "      <th>acc_y_dashboard</th>\n",
              "      <th>acc_z_dashboard</th>\n",
              "      <th>gyro_x_dashboard</th>\n",
              "      <th>gyro_y_dashboard</th>\n",
              "      <th>gyro_z_dashboard</th>\n",
              "      <th>temp_dashboard</th>\n",
              "      <th>speed</th>\n",
              "      <th>road</th>\n",
              "    </tr>\n",
              "  </thead>\n",
              "  <tbody>\n",
              "    <tr>\n",
              "      <th>0</th>\n",
              "      <td>NaN</td>\n",
              "      <td>-0.029431</td>\n",
              "      <td>-0.019621</td>\n",
              "      <td>9.781015</td>\n",
              "      <td>-0.122070</td>\n",
              "      <td>-0.006327</td>\n",
              "      <td>-0.112208</td>\n",
              "      <td>32.166023</td>\n",
              "      <td>0.010822</td>\n",
              "      <td>paved</td>\n",
              "    </tr>\n",
              "    <tr>\n",
              "      <th>1</th>\n",
              "      <td>1.0</td>\n",
              "      <td>-0.039008</td>\n",
              "      <td>0.009110</td>\n",
              "      <td>9.819322</td>\n",
              "      <td>-0.030518</td>\n",
              "      <td>0.115743</td>\n",
              "      <td>-0.051173</td>\n",
              "      <td>32.453560</td>\n",
              "      <td>0.010822</td>\n",
              "      <td>paved</td>\n",
              "    </tr>\n",
              "    <tr>\n",
              "      <th>2</th>\n",
              "      <td>1.0</td>\n",
              "      <td>0.010073</td>\n",
              "      <td>0.005518</td>\n",
              "      <td>9.777423</td>\n",
              "      <td>-0.122070</td>\n",
              "      <td>0.100485</td>\n",
              "      <td>-0.020655</td>\n",
              "      <td>32.405637</td>\n",
              "      <td>0.010822</td>\n",
              "      <td>paved</td>\n",
              "    </tr>\n",
              "    <tr>\n",
              "      <th>3</th>\n",
              "      <td>1.0</td>\n",
              "      <td>0.020847</td>\n",
              "      <td>0.028263</td>\n",
              "      <td>9.785803</td>\n",
              "      <td>0.061035</td>\n",
              "      <td>0.207296</td>\n",
              "      <td>-0.112208</td>\n",
              "      <td>32.453560</td>\n",
              "      <td>0.010822</td>\n",
              "      <td>paved</td>\n",
              "    </tr>\n",
              "    <tr>\n",
              "      <th>4</th>\n",
              "      <td>1.0</td>\n",
              "      <td>-0.003095</td>\n",
              "      <td>-0.017227</td>\n",
              "      <td>9.800168</td>\n",
              "      <td>-0.091553</td>\n",
              "      <td>0.146261</td>\n",
              "      <td>-0.112208</td>\n",
              "      <td>32.309791</td>\n",
              "      <td>0.010822</td>\n",
              "      <td>paved</td>\n",
              "    </tr>\n",
              "  </tbody>\n",
              "</table>\n",
              "</div>\n",
              "      <button class=\"colab-df-convert\" onclick=\"convertToInteractive('df-87b5e713-41ef-42a8-b7b9-1007d3181fee')\"\n",
              "              title=\"Convert this dataframe to an interactive table.\"\n",
              "              style=\"display:none;\">\n",
              "        \n",
              "  <svg xmlns=\"http://www.w3.org/2000/svg\" height=\"24px\"viewBox=\"0 0 24 24\"\n",
              "       width=\"24px\">\n",
              "    <path d=\"M0 0h24v24H0V0z\" fill=\"none\"/>\n",
              "    <path d=\"M18.56 5.44l.94 2.06.94-2.06 2.06-.94-2.06-.94-.94-2.06-.94 2.06-2.06.94zm-11 1L8.5 8.5l.94-2.06 2.06-.94-2.06-.94L8.5 2.5l-.94 2.06-2.06.94zm10 10l.94 2.06.94-2.06 2.06-.94-2.06-.94-.94-2.06-.94 2.06-2.06.94z\"/><path d=\"M17.41 7.96l-1.37-1.37c-.4-.4-.92-.59-1.43-.59-.52 0-1.04.2-1.43.59L10.3 9.45l-7.72 7.72c-.78.78-.78 2.05 0 2.83L4 21.41c.39.39.9.59 1.41.59.51 0 1.02-.2 1.41-.59l7.78-7.78 2.81-2.81c.8-.78.8-2.07 0-2.86zM5.41 20L4 18.59l7.72-7.72 1.47 1.35L5.41 20z\"/>\n",
              "  </svg>\n",
              "      </button>\n",
              "      \n",
              "  <style>\n",
              "    .colab-df-container {\n",
              "      display:flex;\n",
              "      flex-wrap:wrap;\n",
              "      gap: 12px;\n",
              "    }\n",
              "\n",
              "    .colab-df-convert {\n",
              "      background-color: #E8F0FE;\n",
              "      border: none;\n",
              "      border-radius: 50%;\n",
              "      cursor: pointer;\n",
              "      display: none;\n",
              "      fill: #1967D2;\n",
              "      height: 32px;\n",
              "      padding: 0 0 0 0;\n",
              "      width: 32px;\n",
              "    }\n",
              "\n",
              "    .colab-df-convert:hover {\n",
              "      background-color: #E2EBFA;\n",
              "      box-shadow: 0px 1px 2px rgba(60, 64, 67, 0.3), 0px 1px 3px 1px rgba(60, 64, 67, 0.15);\n",
              "      fill: #174EA6;\n",
              "    }\n",
              "\n",
              "    [theme=dark] .colab-df-convert {\n",
              "      background-color: #3B4455;\n",
              "      fill: #D2E3FC;\n",
              "    }\n",
              "\n",
              "    [theme=dark] .colab-df-convert:hover {\n",
              "      background-color: #434B5C;\n",
              "      box-shadow: 0px 1px 3px 1px rgba(0, 0, 0, 0.15);\n",
              "      filter: drop-shadow(0px 1px 2px rgba(0, 0, 0, 0.3));\n",
              "      fill: #FFFFFF;\n",
              "    }\n",
              "  </style>\n",
              "\n",
              "      <script>\n",
              "        const buttonEl =\n",
              "          document.querySelector('#df-87b5e713-41ef-42a8-b7b9-1007d3181fee button.colab-df-convert');\n",
              "        buttonEl.style.display =\n",
              "          google.colab.kernel.accessAllowed ? 'block' : 'none';\n",
              "\n",
              "        async function convertToInteractive(key) {\n",
              "          const element = document.querySelector('#df-87b5e713-41ef-42a8-b7b9-1007d3181fee');\n",
              "          const dataTable =\n",
              "            await google.colab.kernel.invokeFunction('convertToInteractive',\n",
              "                                                     [key], {});\n",
              "          if (!dataTable) return;\n",
              "\n",
              "          const docLinkHtml = 'Like what you see? Visit the ' +\n",
              "            '<a target=\"_blank\" href=https://colab.research.google.com/notebooks/data_table.ipynb>data table notebook</a>'\n",
              "            + ' to learn more about interactive tables.';\n",
              "          element.innerHTML = '';\n",
              "          dataTable['output_type'] = 'display_data';\n",
              "          await google.colab.output.renderOutput(dataTable, element);\n",
              "          const docLink = document.createElement('div');\n",
              "          docLink.innerHTML = docLinkHtml;\n",
              "          element.appendChild(docLink);\n",
              "        }\n",
              "      </script>\n",
              "    </div>\n",
              "  </div>\n",
              "  "
            ]
          },
          "metadata": {},
          "execution_count": 58
        }
      ],
      "source": [
        "#LEITURA DE DADOS\n",
        "link = \"/content/dataset_velocidade.csv\"\n",
        "dados = pd.read_csv(link)\n",
        "dados.head()"
      ]
    },
    {
      "cell_type": "markdown",
      "source": [
        "#Pré-processamento"
      ],
      "metadata": {
        "id": "E2D_LOkmdAu_"
      }
    },
    {
      "cell_type": "code",
      "execution_count": 59,
      "metadata": {
        "id": "dK9zPBMwUWaQ"
      },
      "outputs": [],
      "source": [
        "#Criando uma cópia do arquivo .CSV para poder utilizar em outras partes\n",
        "dfc = dados.copy()"
      ]
    },
    {
      "cell_type": "code",
      "execution_count": 60,
      "metadata": {
        "id": "ltVZVRGII8vW",
        "colab": {
          "base_uri": "https://localhost:8080/"
        },
        "outputId": "cb8a3c03-5d1f-4a82-9e22-1319685ca297"
      },
      "outputs": [
        {
          "output_type": "execute_result",
          "data": {
            "text/plain": [
              "no_speed_bump       1247\n",
              "acc_x_dashboard     1247\n",
              "acc_y_dashboard     1247\n",
              "acc_z_dashboard     1247\n",
              "gyro_x_dashboard    1247\n",
              "gyro_y_dashboard    1247\n",
              "gyro_z_dashboard    1247\n",
              "temp_dashboard      1247\n",
              "speed               1247\n",
              "road                   0\n",
              "dtype: int64"
            ]
          },
          "metadata": {},
          "execution_count": 60
        }
      ],
      "source": [
        "#checando se há valores nulos\n",
        "dados.isnull().sum()"
      ]
    },
    {
      "cell_type": "code",
      "source": [
        "#Dropando dados faltantes\n",
        "dados = dados.dropna(how='any' , axis=0)\n",
        "dfc = dfc.dropna(how='any' , axis=0)"
      ],
      "metadata": {
        "id": "CxxISK5QsCMd"
      },
      "execution_count": 61,
      "outputs": []
    },
    {
      "cell_type": "code",
      "execution_count": 62,
      "metadata": {
        "id": "-zv9AEtKKXKP",
        "colab": {
          "base_uri": "https://localhost:8080/"
        },
        "outputId": "57fc9949-f32b-4e9b-d429-d4c5963f33d0"
      },
      "outputs": [
        {
          "output_type": "execute_result",
          "data": {
            "text/plain": [
              "no_speed_bump       0\n",
              "acc_x_dashboard     0\n",
              "acc_y_dashboard     0\n",
              "acc_z_dashboard     0\n",
              "gyro_x_dashboard    0\n",
              "gyro_y_dashboard    0\n",
              "gyro_z_dashboard    0\n",
              "temp_dashboard      0\n",
              "speed               0\n",
              "road                0\n",
              "dtype: int64"
            ]
          },
          "metadata": {},
          "execution_count": 62
        }
      ],
      "source": [
        "#checando se foram removidos corretamente\n",
        "dados.isnull().sum()"
      ]
    },
    {
      "cell_type": "code",
      "execution_count": 63,
      "metadata": {
        "id": "C1tM1ufELESJ",
        "colab": {
          "base_uri": "https://localhost:8080/"
        },
        "outputId": "d0b5f314-ba6e-4906-bcc7-126af8d5c450"
      },
      "outputs": [
        {
          "output_type": "execute_result",
          "data": {
            "text/plain": [
              "209"
            ]
          },
          "metadata": {},
          "execution_count": 63
        }
      ],
      "source": [
        "#checando se há dados duplicados\n",
        "dados.duplicated().sum()\n",
        "dfc.duplicated().sum()"
      ]
    },
    {
      "cell_type": "code",
      "execution_count": 64,
      "metadata": {
        "id": "ewfipoEIK8Ln"
      },
      "outputs": [],
      "source": [
        "dados.drop_duplicates(inplace=True) \n",
        "dfc.drop_duplicates(inplace=True)\n",
        "#Removendo dados duplicados"
      ]
    },
    {
      "cell_type": "code",
      "execution_count": 65,
      "metadata": {
        "id": "9TI48367GE7F",
        "colab": {
          "base_uri": "https://localhost:8080/",
          "height": 363
        },
        "outputId": "e42d63ae-8689-4278-ce90-28f79ba24836"
      },
      "outputs": [
        {
          "output_type": "execute_result",
          "data": {
            "text/plain": [
              "    no_speed_bump  acc_x_dashboard  acc_y_dashboard  acc_z_dashboard  \\\n",
              "1             1.0        -0.039008         0.009110         9.819322   \n",
              "2             1.0         0.010073         0.005518         9.777423   \n",
              "3             1.0         0.020847         0.028263         9.785803   \n",
              "4             1.0        -0.003095        -0.017227         9.800168   \n",
              "5             1.0         0.006482         0.011504         9.850446   \n",
              "6             1.0         0.001693         0.001927         9.753481   \n",
              "7             1.0        -0.024643        -0.002861         9.807351   \n",
              "8             1.0        -0.029431         0.004321         9.749890   \n",
              "9             1.0         0.011270         0.010307         9.767846   \n",
              "10            1.0         0.016059         0.009110         9.745101   \n",
              "\n",
              "    gyro_x_dashboard  gyro_y_dashboard  gyro_z_dashboard  temp_dashboard  \\\n",
              "1          -0.030518          0.115743         -0.051173       32.453560   \n",
              "2          -0.122070          0.100485         -0.020655       32.405637   \n",
              "3           0.061035          0.207296         -0.112208       32.453560   \n",
              "4          -0.091553          0.146261         -0.112208       32.309791   \n",
              "5           0.000000         -0.342020         -0.081690       32.357714   \n",
              "6          -0.045776         -0.189432          0.040380       32.333753   \n",
              "7           0.030518         -0.067362         -0.020655       32.309791   \n",
              "8          -0.183105          0.115743         -0.051173       32.357714   \n",
              "9          -0.030518         -0.052103         -0.020655       32.309791   \n",
              "10          0.091553          0.207296         -0.081690       32.357714   \n",
              "\n",
              "       speed   road  \n",
              "1   0.010822  paved  \n",
              "2   0.010822  paved  \n",
              "3   0.010822  paved  \n",
              "4   0.010822  paved  \n",
              "5   0.010822  paved  \n",
              "6   0.010822  paved  \n",
              "7   0.010822  paved  \n",
              "8   0.010822  paved  \n",
              "9   0.010822  paved  \n",
              "10  0.010822  paved  "
            ],
            "text/html": [
              "\n",
              "  <div id=\"df-1c08b41f-1fc7-4c9d-9fc3-073c98f89414\">\n",
              "    <div class=\"colab-df-container\">\n",
              "      <div>\n",
              "<style scoped>\n",
              "    .dataframe tbody tr th:only-of-type {\n",
              "        vertical-align: middle;\n",
              "    }\n",
              "\n",
              "    .dataframe tbody tr th {\n",
              "        vertical-align: top;\n",
              "    }\n",
              "\n",
              "    .dataframe thead th {\n",
              "        text-align: right;\n",
              "    }\n",
              "</style>\n",
              "<table border=\"1\" class=\"dataframe\">\n",
              "  <thead>\n",
              "    <tr style=\"text-align: right;\">\n",
              "      <th></th>\n",
              "      <th>no_speed_bump</th>\n",
              "      <th>acc_x_dashboard</th>\n",
              "      <th>acc_y_dashboard</th>\n",
              "      <th>acc_z_dashboard</th>\n",
              "      <th>gyro_x_dashboard</th>\n",
              "      <th>gyro_y_dashboard</th>\n",
              "      <th>gyro_z_dashboard</th>\n",
              "      <th>temp_dashboard</th>\n",
              "      <th>speed</th>\n",
              "      <th>road</th>\n",
              "    </tr>\n",
              "  </thead>\n",
              "  <tbody>\n",
              "    <tr>\n",
              "      <th>1</th>\n",
              "      <td>1.0</td>\n",
              "      <td>-0.039008</td>\n",
              "      <td>0.009110</td>\n",
              "      <td>9.819322</td>\n",
              "      <td>-0.030518</td>\n",
              "      <td>0.115743</td>\n",
              "      <td>-0.051173</td>\n",
              "      <td>32.453560</td>\n",
              "      <td>0.010822</td>\n",
              "      <td>paved</td>\n",
              "    </tr>\n",
              "    <tr>\n",
              "      <th>2</th>\n",
              "      <td>1.0</td>\n",
              "      <td>0.010073</td>\n",
              "      <td>0.005518</td>\n",
              "      <td>9.777423</td>\n",
              "      <td>-0.122070</td>\n",
              "      <td>0.100485</td>\n",
              "      <td>-0.020655</td>\n",
              "      <td>32.405637</td>\n",
              "      <td>0.010822</td>\n",
              "      <td>paved</td>\n",
              "    </tr>\n",
              "    <tr>\n",
              "      <th>3</th>\n",
              "      <td>1.0</td>\n",
              "      <td>0.020847</td>\n",
              "      <td>0.028263</td>\n",
              "      <td>9.785803</td>\n",
              "      <td>0.061035</td>\n",
              "      <td>0.207296</td>\n",
              "      <td>-0.112208</td>\n",
              "      <td>32.453560</td>\n",
              "      <td>0.010822</td>\n",
              "      <td>paved</td>\n",
              "    </tr>\n",
              "    <tr>\n",
              "      <th>4</th>\n",
              "      <td>1.0</td>\n",
              "      <td>-0.003095</td>\n",
              "      <td>-0.017227</td>\n",
              "      <td>9.800168</td>\n",
              "      <td>-0.091553</td>\n",
              "      <td>0.146261</td>\n",
              "      <td>-0.112208</td>\n",
              "      <td>32.309791</td>\n",
              "      <td>0.010822</td>\n",
              "      <td>paved</td>\n",
              "    </tr>\n",
              "    <tr>\n",
              "      <th>5</th>\n",
              "      <td>1.0</td>\n",
              "      <td>0.006482</td>\n",
              "      <td>0.011504</td>\n",
              "      <td>9.850446</td>\n",
              "      <td>0.000000</td>\n",
              "      <td>-0.342020</td>\n",
              "      <td>-0.081690</td>\n",
              "      <td>32.357714</td>\n",
              "      <td>0.010822</td>\n",
              "      <td>paved</td>\n",
              "    </tr>\n",
              "    <tr>\n",
              "      <th>6</th>\n",
              "      <td>1.0</td>\n",
              "      <td>0.001693</td>\n",
              "      <td>0.001927</td>\n",
              "      <td>9.753481</td>\n",
              "      <td>-0.045776</td>\n",
              "      <td>-0.189432</td>\n",
              "      <td>0.040380</td>\n",
              "      <td>32.333753</td>\n",
              "      <td>0.010822</td>\n",
              "      <td>paved</td>\n",
              "    </tr>\n",
              "    <tr>\n",
              "      <th>7</th>\n",
              "      <td>1.0</td>\n",
              "      <td>-0.024643</td>\n",
              "      <td>-0.002861</td>\n",
              "      <td>9.807351</td>\n",
              "      <td>0.030518</td>\n",
              "      <td>-0.067362</td>\n",
              "      <td>-0.020655</td>\n",
              "      <td>32.309791</td>\n",
              "      <td>0.010822</td>\n",
              "      <td>paved</td>\n",
              "    </tr>\n",
              "    <tr>\n",
              "      <th>8</th>\n",
              "      <td>1.0</td>\n",
              "      <td>-0.029431</td>\n",
              "      <td>0.004321</td>\n",
              "      <td>9.749890</td>\n",
              "      <td>-0.183105</td>\n",
              "      <td>0.115743</td>\n",
              "      <td>-0.051173</td>\n",
              "      <td>32.357714</td>\n",
              "      <td>0.010822</td>\n",
              "      <td>paved</td>\n",
              "    </tr>\n",
              "    <tr>\n",
              "      <th>9</th>\n",
              "      <td>1.0</td>\n",
              "      <td>0.011270</td>\n",
              "      <td>0.010307</td>\n",
              "      <td>9.767846</td>\n",
              "      <td>-0.030518</td>\n",
              "      <td>-0.052103</td>\n",
              "      <td>-0.020655</td>\n",
              "      <td>32.309791</td>\n",
              "      <td>0.010822</td>\n",
              "      <td>paved</td>\n",
              "    </tr>\n",
              "    <tr>\n",
              "      <th>10</th>\n",
              "      <td>1.0</td>\n",
              "      <td>0.016059</td>\n",
              "      <td>0.009110</td>\n",
              "      <td>9.745101</td>\n",
              "      <td>0.091553</td>\n",
              "      <td>0.207296</td>\n",
              "      <td>-0.081690</td>\n",
              "      <td>32.357714</td>\n",
              "      <td>0.010822</td>\n",
              "      <td>paved</td>\n",
              "    </tr>\n",
              "  </tbody>\n",
              "</table>\n",
              "</div>\n",
              "      <button class=\"colab-df-convert\" onclick=\"convertToInteractive('df-1c08b41f-1fc7-4c9d-9fc3-073c98f89414')\"\n",
              "              title=\"Convert this dataframe to an interactive table.\"\n",
              "              style=\"display:none;\">\n",
              "        \n",
              "  <svg xmlns=\"http://www.w3.org/2000/svg\" height=\"24px\"viewBox=\"0 0 24 24\"\n",
              "       width=\"24px\">\n",
              "    <path d=\"M0 0h24v24H0V0z\" fill=\"none\"/>\n",
              "    <path d=\"M18.56 5.44l.94 2.06.94-2.06 2.06-.94-2.06-.94-.94-2.06-.94 2.06-2.06.94zm-11 1L8.5 8.5l.94-2.06 2.06-.94-2.06-.94L8.5 2.5l-.94 2.06-2.06.94zm10 10l.94 2.06.94-2.06 2.06-.94-2.06-.94-.94-2.06-.94 2.06-2.06.94z\"/><path d=\"M17.41 7.96l-1.37-1.37c-.4-.4-.92-.59-1.43-.59-.52 0-1.04.2-1.43.59L10.3 9.45l-7.72 7.72c-.78.78-.78 2.05 0 2.83L4 21.41c.39.39.9.59 1.41.59.51 0 1.02-.2 1.41-.59l7.78-7.78 2.81-2.81c.8-.78.8-2.07 0-2.86zM5.41 20L4 18.59l7.72-7.72 1.47 1.35L5.41 20z\"/>\n",
              "  </svg>\n",
              "      </button>\n",
              "      \n",
              "  <style>\n",
              "    .colab-df-container {\n",
              "      display:flex;\n",
              "      flex-wrap:wrap;\n",
              "      gap: 12px;\n",
              "    }\n",
              "\n",
              "    .colab-df-convert {\n",
              "      background-color: #E8F0FE;\n",
              "      border: none;\n",
              "      border-radius: 50%;\n",
              "      cursor: pointer;\n",
              "      display: none;\n",
              "      fill: #1967D2;\n",
              "      height: 32px;\n",
              "      padding: 0 0 0 0;\n",
              "      width: 32px;\n",
              "    }\n",
              "\n",
              "    .colab-df-convert:hover {\n",
              "      background-color: #E2EBFA;\n",
              "      box-shadow: 0px 1px 2px rgba(60, 64, 67, 0.3), 0px 1px 3px 1px rgba(60, 64, 67, 0.15);\n",
              "      fill: #174EA6;\n",
              "    }\n",
              "\n",
              "    [theme=dark] .colab-df-convert {\n",
              "      background-color: #3B4455;\n",
              "      fill: #D2E3FC;\n",
              "    }\n",
              "\n",
              "    [theme=dark] .colab-df-convert:hover {\n",
              "      background-color: #434B5C;\n",
              "      box-shadow: 0px 1px 3px 1px rgba(0, 0, 0, 0.15);\n",
              "      filter: drop-shadow(0px 1px 2px rgba(0, 0, 0, 0.3));\n",
              "      fill: #FFFFFF;\n",
              "    }\n",
              "  </style>\n",
              "\n",
              "      <script>\n",
              "        const buttonEl =\n",
              "          document.querySelector('#df-1c08b41f-1fc7-4c9d-9fc3-073c98f89414 button.colab-df-convert');\n",
              "        buttonEl.style.display =\n",
              "          google.colab.kernel.accessAllowed ? 'block' : 'none';\n",
              "\n",
              "        async function convertToInteractive(key) {\n",
              "          const element = document.querySelector('#df-1c08b41f-1fc7-4c9d-9fc3-073c98f89414');\n",
              "          const dataTable =\n",
              "            await google.colab.kernel.invokeFunction('convertToInteractive',\n",
              "                                                     [key], {});\n",
              "          if (!dataTable) return;\n",
              "\n",
              "          const docLinkHtml = 'Like what you see? Visit the ' +\n",
              "            '<a target=\"_blank\" href=https://colab.research.google.com/notebooks/data_table.ipynb>data table notebook</a>'\n",
              "            + ' to learn more about interactive tables.';\n",
              "          element.innerHTML = '';\n",
              "          dataTable['output_type'] = 'display_data';\n",
              "          await google.colab.output.renderOutput(dataTable, element);\n",
              "          const docLink = document.createElement('div');\n",
              "          docLink.innerHTML = docLinkHtml;\n",
              "          element.appendChild(docLink);\n",
              "        }\n",
              "      </script>\n",
              "    </div>\n",
              "  </div>\n",
              "  "
            ]
          },
          "metadata": {},
          "execution_count": 65
        }
      ],
      "source": [
        "dados.head(10)"
      ]
    },
    {
      "cell_type": "code",
      "source": [
        "#Pegando uma amostra dos dados \n",
        "dfc_sample = dados.sample(1000)\n",
        "dfc_sample.info()"
      ],
      "metadata": {
        "colab": {
          "base_uri": "https://localhost:8080/"
        },
        "id": "0D2WQqTfHhz0",
        "outputId": "639a3566-528f-46c1-efc6-fad347482d1e"
      },
      "execution_count": 66,
      "outputs": [
        {
          "output_type": "stream",
          "name": "stdout",
          "text": [
            "<class 'pandas.core.frame.DataFrame'>\n",
            "Int64Index: 1000 entries, 62948 to 90302\n",
            "Data columns (total 10 columns):\n",
            " #   Column            Non-Null Count  Dtype  \n",
            "---  ------            --------------  -----  \n",
            " 0   no_speed_bump     1000 non-null   float64\n",
            " 1   acc_x_dashboard   1000 non-null   float64\n",
            " 2   acc_y_dashboard   1000 non-null   float64\n",
            " 3   acc_z_dashboard   1000 non-null   float64\n",
            " 4   gyro_x_dashboard  1000 non-null   float64\n",
            " 5   gyro_y_dashboard  1000 non-null   float64\n",
            " 6   gyro_z_dashboard  1000 non-null   float64\n",
            " 7   temp_dashboard    1000 non-null   float64\n",
            " 8   speed             1000 non-null   float64\n",
            " 9   road              1000 non-null   object \n",
            "dtypes: float64(9), object(1)\n",
            "memory usage: 85.9+ KB\n"
          ]
        }
      ]
    },
    {
      "cell_type": "markdown",
      "source": [
        "#Análise Exploratória"
      ],
      "metadata": {
        "id": "QIkx3ePIdKv6"
      }
    },
    {
      "cell_type": "code",
      "execution_count": 67,
      "metadata": {
        "id": "9uC7pJyIdlaF",
        "colab": {
          "base_uri": "https://localhost:8080/",
          "height": 265
        },
        "outputId": "422c7f30-2149-45fa-d273-c909e4524cba"
      },
      "outputs": [
        {
          "output_type": "display_data",
          "data": {
            "text/plain": [
              "<Figure size 432x288 with 1 Axes>"
            ],
            "image/png": "[encoded data removed]"
          },
          "metadata": {
            "needs_background": "light"
          }
        }
      ],
      "source": [
        "#Analisando a distribuição da velocidade\n",
        "x = dados['speed']\n",
        "\n",
        "fig, ax = plt.subplots()\n",
        "\n",
        "ax.hist(x, bins=40, linewidth=0.5, edgecolor=\"white\")\n",
        "\n",
        "plt.show()"
      ]
    },
    {
      "cell_type": "code",
      "source": [
        "#Analisando a quantidade dos tipos de rua, aqui podemos ver que se passaram por muito mais ruas pavimentas, tendo uma parte de 63% preenchida do gráfico\n",
        "dfc['road'].value_counts().plot.pie(autopct = '%0.2f%%') #barra\n",
        "plt.show()"
      ],
      "metadata": {
        "id": "n_C6crILa2TQ",
        "colab": {
          "base_uri": "https://localhost:8080/",
          "height": 248
        },
        "outputId": "00057d41-4071-4ea4-dbf7-a43488b9ebc9"
      },
      "execution_count": 68,
      "outputs": [
        {
          "output_type": "display_data",
          "data": {
            "text/plain": [
              "<Figure size 432x288 with 1 Axes>"
            ],
            "image/png": "[encoded data removed]"
          },
          "metadata": {}
        }
      ]
    },
    {
      "cell_type": "code",
      "source": [
        "#Analisando as proporções das velocidades com base na rua em que se passa\n",
        "\n",
        "sns.barplot(x = 'road', y = 'speed', data = dados)\n",
        "plt.show()"
      ],
      "metadata": {
        "colab": {
          "base_uri": "https://localhost:8080/",
          "height": 279
        },
        "id": "-n_4WlkbnJou",
        "outputId": "da38a2e5-10b8-4a3c-9207-eaab01f68395"
      },
      "execution_count": 69,
      "outputs": [
        {
          "output_type": "display_data",
          "data": {
            "text/plain": [
              "<Figure size 432x288 with 1 Axes>"
            ],
            "image/png": "[encoded data removed]"
          },
          "metadata": {
            "needs_background": "light"
          }
        }
      ]
    },
    {
      "cell_type": "code",
      "source": [
        "#Com base nos dados plotados, podemos visualizar com clareza os resultados da velocidade de cada rua\n",
        "pavimentada = dados.loc[dados['road']== 'paved' ] #paved\n",
        "velo1 = pavimentada['speed']\n",
        "x = velo1\n",
        "\n",
        "npavimentada = dados.loc[dados['road']== 'unpaved' ] #unpaved\n",
        "velo2 = npavimentada['speed']\n",
        "x = velo2\n",
        "\n",
        "asfalto = dados.loc[dados['road']== 'asphalt' ] #asphalt\n",
        "velo3 = asfalto['speed']\n",
        "x = velo3\n",
        "\n",
        "fig, (ax1, ax2, ax3) = plt.subplots(1,3, figsize=(16, 5))\n",
        "\n",
        "ax1.hist(velo1)\n",
        "ax2.hist(velo2)\n",
        "ax3.hist(velo3)\n",
        "plt.show()"
      ],
      "metadata": {
        "colab": {
          "base_uri": "https://localhost:8080/",
          "height": 321
        },
        "id": "Z1htu0fDDZP2",
        "outputId": "e9e41792-5306-45a2-be3f-c16d65d0480c"
      },
      "execution_count": 70,
      "outputs": [
        {
          "output_type": "display_data",
          "data": {
            "text/plain": [
              "<Figure size 1152x360 with 3 Axes>"
            ],
            "image/png": "[encoded data removed]"
          },
          "metadata": {
            "needs_background": "light"
          }
        }
      ]
    },
    {
      "cell_type": "code",
      "execution_count": 71,
      "metadata": {
        "id": "OTOYL6dGqZq1",
        "colab": {
          "base_uri": "https://localhost:8080/",
          "height": 320
        },
        "outputId": "a19424b7-6ad8-42f2-ecec-fa4eb14525c1"
      },
      "outputs": [
        {
          "output_type": "display_data",
          "data": {
            "text/plain": [
              "<Figure size 1152x360 with 2 Axes>"
            ],
            "image/png": "[encoded data removed]"
          },
          "metadata": {
            "needs_background": "light"
          }
        }
      ],
      "source": [
        "#identificando outliers, neste caso não iremos tratar pela quantidade, poderemos perder dados importantes\n",
        "temp = dados['temp_dashboard']\n",
        "spd = dados['speed']\n",
        "\n",
        "fig, (ax1, ax2) = plt.subplots(1,2, figsize=(16,5))\n",
        "\n",
        "ax1.boxplot(temp)\n",
        "ax2.boxplot(spd)\n",
        "plt.show()"
      ]
    },
    {
      "cell_type": "markdown",
      "source": [
        "#Feature Engineering"
      ],
      "metadata": {
        "id": "34F11ea7V7GX"
      }
    },
    {
      "cell_type": "code",
      "execution_count": 72,
      "metadata": {
        "id": "Ogqs0vdOLUpr"
      },
      "outputs": [],
      "source": [
        "#Label encoding\n",
        "le = preprocessing.LabelEncoder()\n",
        "\n",
        "dados[\"road\"] = le.fit_transform( dados[\"road\"] )"
      ]
    },
    {
      "cell_type": "code",
      "execution_count": 73,
      "metadata": {
        "id": "9MrWSXs3Ldw7",
        "colab": {
          "base_uri": "https://localhost:8080/"
        },
        "outputId": "62397435-cbed-4e07-dc20-ae48ea3142a0"
      },
      "outputs": [
        {
          "output_type": "execute_result",
          "data": {
            "text/plain": [
              "array([[ 0.12807808, -0.45968405,  0.12812064, ..., -0.89871882,\n",
              "        -1.46407089, -0.61037159],\n",
              "       [ 0.12807808, -0.42541453,  0.12629352, ..., -1.01334605,\n",
              "        -1.46407089, -0.61037159],\n",
              "       [ 0.12807808, -0.41789195,  0.13786529, ..., -0.89871882,\n",
              "        -1.46407089, -0.61037159],\n",
              "       ...,\n",
              "       [ 0.12807808, -0.20057305, -0.15934634, ..., -1.35722772,\n",
              "        -1.46204917, -0.61037159],\n",
              "       [ 0.12807808, -0.19555799, -0.16665482, ..., -1.81573662,\n",
              "        -1.46204917, -0.61037159],\n",
              "       [ 0.12807808, -0.12534727,  0.02092957, ..., -1.81573662,\n",
              "        -1.46204917, -0.61037159]])"
            ]
          },
          "metadata": {},
          "execution_count": 73
        }
      ],
      "source": [
        "sc = StandardScaler() #Padronizando os dados\n",
        "sc.fit_transform(dados)"
      ]
    },
    {
      "cell_type": "markdown",
      "source": [
        "Abaixo utilizaremos modelos de regressões. Isso pois usaremos um tipo de dado continuo, então seria uma melhor opção"
      ],
      "metadata": {
        "id": "ankmDm5UP8IZ"
      }
    },
    {
      "cell_type": "markdown",
      "source": [
        "#Modelo de regressão simples"
      ],
      "metadata": {
        "id": "UG1pYdF_zmb1"
      }
    },
    {
      "cell_type": "code",
      "source": [
        "#separando dados e label\n",
        "X = dados.drop('speed', axis = 1)\n",
        "y = dados[\"speed\"]\n",
        "\n",
        "# Treino e teste\n",
        "X_train, X_test, y_train, y_test = train_test_split(X, \n",
        "                                                    y, \n",
        "                                                    test_size=0.3, \n",
        "                                                    random_state=42)"
      ],
      "metadata": {
        "id": "DY4dznn6xDhc"
      },
      "execution_count": 74,
      "outputs": []
    },
    {
      "cell_type": "code",
      "source": [
        "dados.columns"
      ],
      "metadata": {
        "colab": {
          "base_uri": "https://localhost:8080/"
        },
        "id": "e-MrNkQcHy8D",
        "outputId": "9319aa1f-c645-41f5-f2b2-874e9d930bc7"
      },
      "execution_count": 75,
      "outputs": [
        {
          "output_type": "execute_result",
          "data": {
            "text/plain": [
              "Index(['no_speed_bump', 'acc_x_dashboard', 'acc_y_dashboard',\n",
              "       'acc_z_dashboard', 'gyro_x_dashboard', 'gyro_y_dashboard',\n",
              "       'gyro_z_dashboard', 'temp_dashboard', 'speed', 'road'],\n",
              "      dtype='object')"
            ]
          },
          "metadata": {},
          "execution_count": 75
        }
      ]
    },
    {
      "cell_type": "code",
      "source": [
        "# Treinar o modelo\n",
        "reta = LinearRegression()\n",
        "reta.fit(X_train, y_train)\n",
        "\n",
        "y_pred = reta.predict(X_test)"
      ],
      "metadata": {
        "id": "rVeltt0KyVc4"
      },
      "execution_count": 76,
      "outputs": []
    },
    {
      "cell_type": "code",
      "source": [
        "# avaliando o modelo, podemos ver que ele não é bom pois o r2 não foi tão grande, o mse também deu apenas 19 \n",
        "mse = mean_squared_error(y_test, y_pred)\n",
        "msa = mean_absolute_error(y_test, y_pred)\n",
        "r2 = r2_score(y_test, y_pred)\n",
        "\n",
        "print(f\"MSE = {mse}\")\n",
        "print(f\"Msa = {msa}\")\n",
        "print(f\"R² = {r2}\")"
      ],
      "metadata": {
        "id": "MKHLM-2Ty4ur",
        "colab": {
          "base_uri": "https://localhost:8080/"
        },
        "outputId": "84d43792-1397-47b2-a0a6-b2c694cf2ab7"
      },
      "execution_count": 77,
      "outputs": [
        {
          "output_type": "stream",
          "name": "stdout",
          "text": [
            "MSE = 28.177566594116158\n",
            "Msa = 4.024947927565389\n",
            "R² = 0.28738508018034314\n"
          ]
        }
      ]
    },
    {
      "cell_type": "markdown",
      "source": [
        "#Modelo de regressão Lasso\n",
        "\n"
      ],
      "metadata": {
        "id": "H9V0a5cvLo8P"
      }
    },
    {
      "cell_type": "code",
      "source": [
        "# Treinar o modelo\n",
        "modelo = linear_model.Lasso()\n",
        "modelo.fit(X_train, y_train)\n",
        "\n",
        "y_pred = reta.predict(X_test)"
      ],
      "metadata": {
        "id": "KG2BxJ66LtkY"
      },
      "execution_count": 78,
      "outputs": []
    },
    {
      "cell_type": "code",
      "source": [
        "# avaliando este modelo, percebe-se que o resultado foi bem parecido\n",
        "mse = mean_squared_error(y_test, y_pred)\n",
        "msa = mean_absolute_error(y_test, y_pred)\n",
        "r2 = r2_score(y_test, y_pred)\n",
        "\n",
        "print(f\"MSE = {mse}\")\n",
        "print(f\"Msa = {msa}\")\n",
        "print(f\"R² = {r2}\")"
      ],
      "metadata": {
        "colab": {
          "base_uri": "https://localhost:8080/"
        },
        "id": "FpVfpynjL1eh",
        "outputId": "cd112cda-b90a-4a1c-8da8-7fb2bcf0ac4f"
      },
      "execution_count": 79,
      "outputs": [
        {
          "output_type": "stream",
          "name": "stdout",
          "text": [
            "MSE = 28.177566594116158\n",
            "Msa = 4.024947927565389\n",
            "R² = 0.28738508018034314\n"
          ]
        }
      ]
    },
    {
      "cell_type": "markdown",
      "source": [
        "#Modelo de regressão Ridge"
      ],
      "metadata": {
        "id": "zypY2rmYNf5n"
      }
    },
    {
      "cell_type": "code",
      "source": [
        "# Treinar o modelo\n",
        "modelo = Ridge()\n",
        "modelo.fit(X_train, y_train)\n",
        "\n",
        "y_pred = reta.predict(X_test)"
      ],
      "metadata": {
        "id": "VC6Kzai3Nqzm"
      },
      "execution_count": 80,
      "outputs": []
    },
    {
      "cell_type": "code",
      "source": [
        "# avaliando este modelo, percebe-se que o resultado foi bem parecido\n",
        "mse = mean_squared_error(y_test, y_pred)\n",
        "msa = mean_absolute_error(y_test, y_pred)\n",
        "r2 = r2_score(y_test, y_pred)\n",
        "\n",
        "print(f\"MSE = {mse}\")\n",
        "print(f\"Msa = {msa}\")\n",
        "print(f\"R² = {r2}\")"
      ],
      "metadata": {
        "colab": {
          "base_uri": "https://localhost:8080/"
        },
        "id": "7Knp7MWsNtXj",
        "outputId": "8ba56d81-89d5-4f9f-8455-5878186de8a4"
      },
      "execution_count": 81,
      "outputs": [
        {
          "output_type": "stream",
          "name": "stdout",
          "text": [
            "MSE = 28.177566594116158\n",
            "Msa = 4.024947927565389\n",
            "R² = 0.28738508018034314\n"
          ]
        }
      ]
    },
    {
      "cell_type": "markdown",
      "source": [
        "#Modelo de regressão Elastic"
      ],
      "metadata": {
        "id": "-tYgWqKqOjUm"
      }
    },
    {
      "cell_type": "code",
      "source": [
        "# Treinar o modelo\n",
        "modelo = ElasticNet()\n",
        "modelo.fit(X_train, y_train)\n",
        "\n",
        "y_pred = reta.predict(X_test)"
      ],
      "metadata": {
        "id": "1zUonBHCOoZk"
      },
      "execution_count": 82,
      "outputs": []
    },
    {
      "cell_type": "code",
      "source": [
        "# avaliando este modelo, percebe-se que o resultado foi bem parecido\n",
        "mse = mean_squared_error(y_test, y_pred)\n",
        "msa = mean_absolute_error(y_test, y_pred)\n",
        "r2 = r2_score(y_test, y_pred)\n",
        "\n",
        "print(f\"MSE = {mse}\")\n",
        "print(f\"Msa = {msa}\")\n",
        "print(f\"R² = {r2}\")"
      ],
      "metadata": {
        "colab": {
          "base_uri": "https://localhost:8080/"
        },
        "id": "Alth_VztOrD3",
        "outputId": "9186bb2e-7ba0-47c2-9a13-5a74095bad4a"
      },
      "execution_count": 83,
      "outputs": [
        {
          "output_type": "stream",
          "name": "stdout",
          "text": [
            "MSE = 28.177566594116158\n",
            "Msa = 4.024947927565389\n",
            "R² = 0.28738508018034314\n"
          ]
        }
      ]
    },
    {
      "cell_type": "markdown",
      "source": [
        "Verificando os 4 modelos, podemos ver que os resultados foram bem parecidos! Provavelmente por os algoritmos serem também parecidos. \n",
        "\n",
        "Vimos também que os resultados não foram tão bons, então não seria muito utilizado no mercado de trabalho"
      ],
      "metadata": {
        "id": "_-_3YMIBPQvw"
      }
    }
  ],
  "metadata": {
    "colab": {
      "provenance": [],
      "collapsed_sections": []
    },
    "kernelspec": {
      "display_name": "Python 3",
      "name": "python3"
    },
    "language_info": {
      "name": "python"
    }
  },
  "nbformat": 4,
  "nbformat_minor": 0
}